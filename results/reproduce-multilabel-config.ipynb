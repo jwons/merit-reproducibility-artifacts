{
 "cells": [
  {
   "cell_type": "markdown",
   "id": "a7947c3f-f3e3-4ee8-ac2a-25c1c608f8b7",
   "metadata": {},
   "source": [
    "# Multilabel Classification"
   ]
  },
  {
   "cell_type": "code",
   "execution_count": 1,
   "id": "e1b76954-8bed-4e3e-b94a-2c684eaa6934",
   "metadata": {},
   "outputs": [],
   "source": [
    "%jars ../tribuo/MultiLabel/SGD/target/tribuo-multilabel-sgd-4.2.0-SNAPSHOT-jar-with-dependencies.jar\n",
    "%jars ../tribuo/Common/NearestNeighbour/target/tribuo-common-nearest-neighbour-4.2.0-SNAPSHOT.jar\n",
    "%jars ../tribuo/Classification/SGD/target/tribuo-classification-sgd-4.2.0-SNAPSHOT-jar-with-dependencies.jar\n",
    "%jars ../tribuo/Classification/DecisionTree/target/tribuo-classification-tree-4.2.0-SNAPSHOT-jar-with-dependencies.jar\n",
    "\n",
    "%jars ../tribuo/Reproducibility/target/tribuo-reproducibility-4.2.0-SNAPSHOT-jar-with-dependencies.jar"
   ]
  },
  {
   "cell_type": "code",
   "execution_count": 2,
   "id": "d34e29b4-f106-4208-a43b-257916e5d7b4",
   "metadata": {},
   "outputs": [],
   "source": [
    "import org.tribuo.*;\n",
    "import org.tribuo.classification.Label;\n",
    "import org.tribuo.classification.dtree.CARTClassificationTrainer;\n",
    "import org.tribuo.classification.dtree.impurity.*;\n",
    "import org.tribuo.datasource.*;\n",
    "import org.tribuo.math.optimisers.*;\n",
    "import org.tribuo.multilabel.*;\n",
    "import org.tribuo.multilabel.baseline.*;\n",
    "import org.tribuo.multilabel.ensemble.*;\n",
    "import org.tribuo.multilabel.evaluation.*;\n",
    "import org.tribuo.multilabel.sgd.linear.*;\n",
    "import org.tribuo.multilabel.sgd.objectives.*;\n",
    "import org.tribuo.util.Util;\n",
    "\n",
    "import com.oracle.labs.mlrg.olcut.config.ConfigurationManager;\n",
    "import com.oracle.labs.mlrg.olcut.config.ConfigurationData;\n",
    "import com.oracle.labs.mlrg.olcut.provenance.ProvenanceUtil;\n",
    "\n",
    "import java.nio.file.Paths;\n",
    "\n",
    "import org.tribuo.reproducibility.ReproUtil;"
   ]
  },
  {
   "cell_type": "code",
   "execution_count": 3,
   "id": "96eb0244-b964-4be5-a0fe-3c9f7ac4c2e7",
   "metadata": {},
   "outputs": [],
   "source": [
    "FileWriter fw = new FileWriter(\"./configMultilabelResults.csv\");\n",
    "fw.append(\"Task, Trainer, Model, Equivalent Evaluation, Model Prov Diff, Dataset Name, Datasource\\n\");\n",
    "fw.flush();\n",
    "fw.close();\n",
    "\n",
    "public String escapeSpecialCharacters(String data) {\n",
    "    String escapedData = data.replaceAll(\"\\\\R\", \" \");\n",
    "    if (data.contains(\",\") || data.contains(\"\\\"\") || data.contains(\"'\")) {\n",
    "        data = data.replace(\"\\\"\", \"\\\"\\\"\");\n",
    "        escapedData = \"\\\"\" + data + \"\\\"\";\n",
    "    }\n",
    "    return escapedData;\n",
    "}\n",
    "\n",
    "public void addToCSV(String task, String trainer, String model, String equal, String diff, String dataset, String datatype) throws Exception{\n",
    "    FileWriter fw = new FileWriter(\"./configMultilabelResults.csv\", true);\n",
    "    fw.append(escapeSpecialCharacters(task) + \",\" +\n",
    "              escapeSpecialCharacters(trainer) + \",\" + \n",
    "              escapeSpecialCharacters(model) + \",\" +\n",
    "              escapeSpecialCharacters(equal) + \",\" +\n",
    "              escapeSpecialCharacters(diff) + \",\" + dataset + \",\" + datatype + \"\\n\");\n",
    "    fw.flush();\n",
    "    fw.close();\n",
    "}"
   ]
  },
  {
   "cell_type": "code",
   "execution_count": 4,
   "id": "6977bc18-dd2b-45f4-b101-3eecf4a10c9f",
   "metadata": {},
   "outputs": [],
   "source": [
    "var configPath = Paths.get(\"configs\",\"all-multilabel-config.xml\");\n",
    "var cm = new ConfigurationManager(configPath.toString());\n",
    "HashMap<String,Trainer> mlTrainers = (HashMap<String,Trainer>) cm.lookupAllMap(Trainer.class);"
   ]
  },
  {
   "cell_type": "code",
   "execution_count": 5,
   "id": "58aeb6f1-733e-45d0-aa2f-b56baa3e69ef",
   "metadata": {},
   "outputs": [],
   "source": [
    "var factory = new MultiLabelFactory();\n",
    "var trainSource = new LibSVMDataSource<>(Paths.get(\"yeast_train.svm\"),factory);\n",
    "var testSource = new LibSVMDataSource<>(Paths.get(\"yeast_test.svm\"),factory,trainSource.isZeroIndexed(),trainSource.getMaxFeatureID());\n",
    "var train = new MutableDataset<>(trainSource);\n",
    "var test = new MutableDataset<>(testSource);"
   ]
  },
  {
   "cell_type": "code",
   "execution_count": 6,
   "id": "fda0207a-1fca-4748-9914-6c5b17af7e4a",
   "metadata": {},
   "outputs": [
    {
     "name": "stdout",
     "output_type": "stream",
     "text": [
      "ml-logistic\n",
      "ml-cc-ensemble\n",
      "ml-3-nn\n",
      "ml-cc\n",
      "ml-br\n"
     ]
    }
   ],
   "source": [
    "for (String trainerKey : mlTrainers.keySet()){\n",
    "\n",
    "    if(!trainerKey.substring(0, 2).equals(\"ml\")){\n",
    "        continue;\n",
    "    }\n",
    "    System.out.println(trainerKey);\n",
    "    Model<MultiLabel> model = mlTrainers.get(trainerKey).train(train);\n",
    "    ReproUtil repro = new ReproUtil(model);\n",
    "    Model<MultiLabel> newModel = repro.reproduceFromProvenance();\n",
    "    \n",
    "    MultiLabelEvaluator eval = new MultiLabelEvaluator();\n",
    "    var oldEvaluation = eval.evaluate(model,test);\n",
    "    var newEvaluation = eval.evaluate(newModel,test);\n",
    "    addToCSV(\"Multilabel Classification\", \n",
    "             mlTrainers.get(trainerKey).getClass().toString(),\n",
    "             model.getProvenance().getClassName(), \n",
    "             String.valueOf(oldEvaluation.toString().equals(newEvaluation.toString())), \n",
    "             ReproUtil.diffProvenance(model.getProvenance(), newModel.getProvenance()),\n",
    "             \"Yeast\", \"LibSVM\");\n",
    "}"
   ]
  }
 ],
 "metadata": {
  "kernelspec": {
   "display_name": "Java",
   "language": "java",
   "name": "java"
  },
  "language_info": {
   "codemirror_mode": "java",
   "file_extension": ".jshell",
   "mimetype": "text/x-java-source",
   "name": "Java",
   "pygments_lexer": "java",
   "version": "16.0.2+7-67"
  }
 },
 "nbformat": 4,
 "nbformat_minor": 5
}

