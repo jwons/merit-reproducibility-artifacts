{
 "cells": [
  {
   "cell_type": "markdown",
   "metadata": {},
   "source": [
    "# Reproduction of Various Tribuo Models\n",
    "\n",
    "## Setup\n",
    "You'll need to get a copy of the irises dataset. If you are using Docker this should already be downloaded\n",
    "\n",
    "`wget https://archive.ics.uci.edu/ml/machine-learning-databases/iris/bezdekIris.data`"
   ]
  },
  {
   "cell_type": "markdown",
   "metadata": {},
   "source": [
    "It's Java, so first we load in the necessary Tribuo jars. Here we're using the classification experiments jar, along with the json interop jar to read and write the provenance information."
   ]
  },
  {
   "cell_type": "code",
   "execution_count": 13,
   "metadata": {},
   "outputs": [],
   "source": [
    "%jars ./tribuo-classification-experiments-4.2.0-SNAPSHOT-jar-with-dependencies.jar\n",
    "%jars ./tribuo-json-4.2.0-SNAPSHOT-jar-with-dependencies.jar\n",
    "%jars ./tribuo-regression-sgd-4.2.0-SNAPSHOT-jar-with-dependencies.jar\n",
    "%jars ./tribuo-regression-xgboost-4.2.0-SNAPSHOT-jar-with-dependencies.jar\n",
    "%jars ./tribuo-regression-tree-4.2.0-SNAPSHOT-jar-with-dependencies.jar\n",
    "%jars ./tribuo-clustering-kmeans-4.2.0-SNAPSHOT-jar-with-dependencies.jar\n",
    "%jars ./tribuo-anomaly-libsvm-4.2.0-SNAPSHOT-jar-with-dependencies.jar\n",
    "%jars ./tribuo-onnx-4.2.0-SNAPSHOT-jar-with-dependencies.jar\n",
    "\n",
    "%jars ./tribuo-reproducibility-4.2.0-SNAPSHOT-jar-with-dependencies.jar"
   ]
  },
  {
   "cell_type": "code",
   "execution_count": 14,
   "metadata": {},
   "outputs": [],
   "source": [
    "import java.nio.file.Path;\n",
    "import java.nio.file.Paths;\n",
    "import java.nio.file.Files;"
   ]
  },
  {
   "cell_type": "code",
   "execution_count": 15,
   "metadata": {},
   "outputs": [],
   "source": [
    "import org.tribuo.*;\n",
    "import org.tribuo.evaluation.TrainTestSplitter;\n",
    "import org.tribuo.data.csv.CSVLoader;\n",
    "import org.tribuo.datasource.ListDataSource;\n",
    "import org.tribuo.evaluation.TrainTestSplitter;\n",
    "import org.tribuo.classification.*;\n",
    "import org.tribuo.classification.evaluation.*;\n",
    "import org.tribuo.classification.sgd.linear.LogisticRegressionTrainer;\n",
    "import org.tribuo.classification.sgd.linear.LinearSGDModel;\n",
    "import org.tribuo.math.optimisers.*;\n",
    "import org.tribuo.regression.*;\n",
    "import org.tribuo.regression.evaluation.*;\n",
    "import org.tribuo.regression.sgd.RegressionObjective;\n",
    "import org.tribuo.regression.sgd.linear.LinearSGDTrainer;\n",
    "import org.tribuo.regression.sgd.objectives.SquaredLoss;\n",
    "import org.tribuo.regression.rtree.CARTRegressionTrainer;\n",
    "import org.tribuo.regression.rtree.impurity.MeanSquaredError;\n",
    "import org.tribuo.regression.xgboost.XGBoostRegressionTrainer;\n",
    "import org.tribuo.util.Util;\n",
    "\n",
    "import org.tribuo.provenance.DatasetProvenance;\n",
    "\n",
    "import org.tribuo.reproducibility.ReproUtil;"
   ]
  },
  {
   "cell_type": "code",
   "execution_count": 16,
   "metadata": {},
   "outputs": [],
   "source": [
    "import com.fasterxml.jackson.databind.*;\n",
    "import com.oracle.labs.mlrg.olcut.provenance.ProvenanceUtil;\n",
    "import com.oracle.labs.mlrg.olcut.config.json.*;"
   ]
  },
  {
   "cell_type": "markdown",
   "metadata": {},
   "source": [
    "# Setup "
   ]
  },
  {
   "cell_type": "code",
   "execution_count": 17,
   "metadata": {},
   "outputs": [],
   "source": [
    "FileWriter fw = new FileWriter(\"./results.csv\");\n",
    "fw.append(\"Model, EqualEval, Diff, Dataset, Note\\n\");\n",
    "fw.flush();\n",
    "fw.close();\n",
    "\n",
    "public String escapeSpecialCharacters(String data) {\n",
    "    String escapedData = data.replaceAll(\"\\\\R\", \" \");\n",
    "    if (data.contains(\",\") || data.contains(\"\\\"\") || data.contains(\"'\")) {\n",
    "        data = data.replace(\"\\\"\", \"\\\"\\\"\");\n",
    "        escapedData = \"\\\"\" + data + \"\\\"\";\n",
    "    }\n",
    "    return escapedData;\n",
    "}\n",
    "\n",
    "public void addToCSV(String model, String equal, String diff, String dataset, String note) throws Exception{\n",
    "    FileWriter fw = new FileWriter(\"./results.csv\", true);\n",
    "    fw.append(escapeSpecialCharacters(model) + \",\"\n",
    "              + escapeSpecialCharacters(equal) + \",\" \n",
    "              + escapeSpecialCharacters(diff) + \",\" + dataset + \",\" + note + \"\\n\");\n",
    "    fw.flush();\n",
    "    fw.close();\n",
    "}\n",
    "\n"
   ]
  },
  {
   "cell_type": "markdown",
   "metadata": {},
   "source": [
    "## Irises Reproduction"
   ]
  },
  {
   "cell_type": "code",
   "execution_count": 18,
   "metadata": {},
   "outputs": [],
   "source": [
    "var labelFactory = new LabelFactory();\n",
    "var csvLoader = new CSVLoader<>(labelFactory);\n",
    "\n",
    "var irisHeaders = new String[]{\"sepalLength\", \"sepalWidth\", \"petalLength\", \"petalWidth\", \"species\"};\n",
    "var irisesSource = csvLoader.loadDataSource(Paths.get(\"bezdekIris.data\"),\"species\",irisHeaders);\n",
    "var irisSplitter = new TrainTestSplitter<>(irisesSource,0.7,1L);\n",
    "\n",
    "var trainingDataset = new MutableDataset<>(irisSplitter.getTrain());\n",
    "var testingDataset = new MutableDataset<>(irisSplitter.getTest());\n",
    "\n",
    "Trainer<Label> trainer = new LogisticRegressionTrainer();\n",
    "\n",
    "Model<Label> irisModel = trainer.train(trainingDataset);"
   ]
  },
  {
   "cell_type": "code",
   "execution_count": 19,
   "metadata": {},
   "outputs": [],
   "source": [
    "var repro = new ReproUtil(irisModel.getProvenance());\n",
    "Model<Label> newModel = repro.reproduceFromProvenance();\n",
    "\n",
    "var evaluator = new LabelEvaluator();\n",
    "var oldEvaluation = evaluator.evaluate(irisModel,testingDataset);\n",
    "var newEvaluation = evaluator.evaluate(newModel,testingDataset);\n",
    "oldEvaluation.toString().equals(newEvaluation.toString());\n",
    "addToCSV(irisModel.getProvenance().getClassName(), \n",
    "         String.valueOf(oldEvaluation.toString().equals(newEvaluation.toString())), \n",
    "         ReproUtil.diffProvenance(irisModel.getProvenance(), newModel.getProvenance()),\"Irises\", \"\")"
   ]
  },
  {
   "cell_type": "markdown",
   "metadata": {},
   "source": [
    "### Example Diff of a Reproduced Model"
   ]
  },
  {
   "cell_type": "code",
   "execution_count": 20,
   "metadata": {},
   "outputs": [
    {
     "name": "stdout",
     "output_type": "stream",
     "text": [
      "{\n",
      "  \"dataset\" : {\n",
      "    \"datasource\" : {\n",
      "      \"source\" : {\n",
      "        \"datasource-creation-time\" : {\n",
      "          \"original\" : \"2021-09-30T19:54:01.994181189Z\",\n",
      "          \"reproduced\" : \"2021-09-30T19:54:03.831371998Z\"\n",
      "        }\n",
      "      }\n",
      "    }\n",
      "  },\n",
      "  \"trained-at\" : {\n",
      "    \"original\" : \"2021-09-30T19:54:02.095293115Z\",\n",
      "    \"reproduced\" : \"2021-09-30T19:54:03.834169995Z\"\n",
      "  }\n",
      "}\n",
      "\n"
     ]
    }
   ],
   "source": [
    "System.out.println(ReproUtil.diffProvenance(irisModel.getProvenance(), newModel.getProvenance()) + '\\n');"
   ]
  },
  {
   "cell_type": "markdown",
   "metadata": {},
   "source": [
    "# Regression Wine Quality"
   ]
  },
  {
   "cell_type": "code",
   "execution_count": 10,
   "metadata": {},
   "outputs": [],
   "source": [
    "public Model<Regressor> reproduceRegressor(Dataset<Regressor> trainData, Dataset<Regressor> testData, Trainer<Regressor> trainer, String note) throws Exception{\n",
    "    Model<Regressor> model = trainer.train(trainData);\n",
    "    \n",
    "    var repro = new ReproUtil(model.getProvenance());\n",
    "    Model<Regressor> newModel = repro.reproduceFromProvenance(); \n",
    "    \n",
    "    RegressionEvaluator eval = new RegressionEvaluator();\n",
    "    var oldEvaluation = eval.evaluate(model,testData);\n",
    "    var newEvaluation = eval.evaluate(newModel,testData);\n",
    "    \n",
    "    addToCSV(model.getProvenance().getClassName(),\n",
    "            String.valueOf(oldEvaluation.toString().equals(newEvaluation.toString())),\n",
    "            ReproUtil.diffProvenance(model.getProvenance(), newModel.getProvenance()), \"Wine Quality\", note);\n",
    "    return newModel;\n",
    "}\n",
    "\n",
    "var regressionFactory = new RegressionFactory();\n",
    "var csvLoader = new CSVLoader<>(';',regressionFactory);\n",
    "\n",
    "var wineSource = csvLoader.loadDataSource(Paths.get(\"winequality-red.csv\"),\"quality\");\n",
    "var splitter = new TrainTestSplitter<>(wineSource, 0.7f, 0L);\n",
    "Dataset<Regressor> trainData = new MutableDataset<>(splitter.getTrain());\n",
    "Dataset<Regressor> testData = new MutableDataset<>(splitter.getTest());\n",
    "\n",
    "var lrsgd = new LinearSGDTrainer(\n",
    "    new SquaredLoss(), // loss function\n",
    "    SGD.getLinearDecaySGD(0.01), // gradient descent algorithm\n",
    "    10,                // number of training epochs\n",
    "    trainData.size()/4,// logging interval\n",
    "    1,                 // minibatch size\n",
    "    1L                 // RNG seed\n",
    ");\n",
    "var lrada = new LinearSGDTrainer(\n",
    "    new SquaredLoss(),\n",
    "    new AdaGrad(0.01),\n",
    "    10,\n",
    "    trainData.size()/4,\n",
    "    1,\n",
    "    1L \n",
    ");\n",
    "var cart = new CARTRegressionTrainer(6);\n",
    "var xgb = new XGBoostRegressionTrainer(50);\n",
    "\n",
    "Model<Regressor> lrsgdModel = reproduceRegressor(trainData, testData, lrsgd, \"LinearDecaySGD\");\n",
    "Model<Regressor> lradaModel = reproduceRegressor(trainData, testData, lrada, \"AdaGrad\");\n",
    "Model<Regressor> cartModel = reproduceRegressor(trainData, testData, cart, \"\");"
   ]
  },
  {
   "cell_type": "markdown",
   "metadata": {},
   "source": [
    "# Example Diff with Same Trainer but Different Optimizers"
   ]
  },
  {
   "cell_type": "code",
   "execution_count": 23,
   "metadata": {},
   "outputs": [
    {
     "name": "stdout",
     "output_type": "stream",
     "text": [
      "{\n",
      "  \"dataset\" : {\n",
      "    \"datasource\" : {\n",
      "      \"source\" : {\n",
      "        \"datasource-creation-time\" : {\n",
      "          \"original\" : \"2021-09-30T19:52:57.390025140Z\",\n",
      "          \"reproduced\" : \"2021-09-30T19:52:57.444953394Z\"\n",
      "        }\n",
      "      }\n",
      "    }\n",
      "  },\n",
      "  \"trained-at\" : {\n",
      "    \"original\" : \"2021-09-30T19:52:57.416278131Z\",\n",
      "    \"reproduced\" : \"2021-09-30T19:52:57.464902493Z\"\n",
      "  },\n",
      "  \"trainer\" : {\n",
      "    \"optimiser\" : {\n",
      "      \"class-name\" : {\n",
      "        \"original\" : \"org.tribuo.math.optimisers.LinearDecaySGD\",\n",
      "        \"reproduced\" : \"org.tribuo.math.optimisers.AdaGrad\"\n",
      "      },\n",
      "      \"rho\" : {\n",
      "        \"original\" : \"0.0\"\n",
      "      },\n",
      "      \"useMomentum\" : {\n",
      "        \"original\" : \"NONE\"\n",
      "      },\n",
      "      \"epsilon\" : {\n",
      "        \"reproduced\" : \"1.0E-6\"\n",
      "      },\n",
      "      \"initialValue\" : {\n",
      "        \"reproduced\" : \"0.0\"\n",
      "      }\n",
      "    }\n",
      "  }\n",
      "}\n"
     ]
    }
   ],
   "source": [
    "System.out.println(ReproUtil.diffProvenance(lrsgdModel.getProvenance(), lradaModel.getProvenance()));"
   ]
  },
  {
   "cell_type": "markdown",
   "metadata": {},
   "source": [
    "# Diff of Classification LinearSGDModel to Regression LinearSGDModel"
   ]
  },
  {
   "cell_type": "code",
   "execution_count": 24,
   "metadata": {},
   "outputs": [
    {
     "name": "stdout",
     "output_type": "stream",
     "text": [
      "{\n",
      "  \"class-name\" : {\n",
      "    \"original\" : \"org.tribuo.regression.sgd.linear.LinearSGDModel\",\n",
      "    \"reproduced\" : \"org.tribuo.classification.sgd.linear.LinearSGDModel\"\n",
      "  },\n",
      "  \"dataset\" : {\n",
      "    \"datasource\" : {\n",
      "      \"seed\" : {\n",
      "        \"original\" : \"0\",\n",
      "        \"reproduced\" : \"1\"\n",
      "      },\n",
      "      \"size\" : {\n",
      "        \"original\" : \"1599\",\n",
      "        \"reproduced\" : \"150\"\n",
      "      },\n",
      "      \"source\" : {\n",
      "        \"dataPath\" : {\n",
      "          \"original\" : \"/home/jupyter/results/winequality-red.csv\",\n",
      "          \"reproduced\" : \"/home/jupyter/results/bezdekIris.data\"\n",
      "        },\n",
      "        \"datasource-creation-time\" : {\n",
      "          \"original\" : \"2021-09-30T19:52:57.390025140Z\",\n",
      "          \"reproduced\" : \"2021-09-30T19:54:01.994181189Z\"\n",
      "        },\n",
      "        \"file-modified-time\" : {\n",
      "          \"original\" : \"2009-10-16T21:36:50Z\",\n",
      "          \"reproduced\" : \"1999-12-14T20:12:39Z\"\n",
      "        },\n",
      "        \"resource-hash\" : {\n",
      "          \"original\" : \"4A402CF041B025D4566D954C3B9BA8635A3A8A01E039005D97D6A710278CF05E\",\n",
      "          \"reproduced\" : \"0FED2A99DB77EC533A62DC66894D3EC6DF3B58B6A8F3CF4A6B47E4086B7F97DC\"\n",
      "        },\n",
      "        \"separator\" : {\n",
      "          \"original\" : \";\",\n",
      "          \"reproduced\" : \",\"\n",
      "        }\n",
      "      },\n",
      "      \"train-proportion\" : {\n",
      "        \"original\" : \"0.699999988079071\",\n",
      "        \"reproduced\" : \"0.7\"\n",
      "      }\n",
      "    },\n",
      "    \"num-examples\" : {\n",
      "      \"original\" : \"1119\",\n",
      "      \"reproduced\" : \"105\"\n",
      "    },\n",
      "    \"num-features\" : {\n",
      "      \"original\" : \"11\",\n",
      "      \"reproduced\" : \"4\"\n",
      "    },\n",
      "    \"num-outputs\" : {\n",
      "      \"original\" : \"1\",\n",
      "      \"reproduced\" : \"3\"\n",
      "    }\n",
      "  },\n",
      "  \"trained-at\" : {\n",
      "    \"original\" : \"2021-09-30T19:52:57.416278131Z\",\n",
      "    \"reproduced\" : \"2021-09-30T19:54:02.095293115Z\"\n",
      "  },\n",
      "  \"trainer\" : {\n",
      "    \"class-name\" : {\n",
      "      \"original\" : \"org.tribuo.regression.sgd.linear.LinearSGDTrainer\",\n",
      "      \"reproduced\" : \"org.tribuo.classification.sgd.linear.LogisticRegressionTrainer\"\n",
      "    },\n",
      "    \"epochs\" : {\n",
      "      \"original\" : \"10\",\n",
      "      \"reproduced\" : \"5\"\n",
      "    },\n",
      "    \"loggingInterval\" : {\n",
      "      \"original\" : \"279\",\n",
      "      \"reproduced\" : \"1000\"\n",
      "    },\n",
      "    \"objective\" : {\n",
      "      \"class-name\" : {\n",
      "        \"original\" : \"org.tribuo.regression.sgd.objectives.SquaredLoss\",\n",
      "        \"reproduced\" : \"org.tribuo.classification.sgd.objectives.LogMulticlass\"\n",
      "      },\n",
      "      \"host-short-name\" : {\n",
      "        \"original\" : \"RegressionObjective\",\n",
      "        \"reproduced\" : \"LabelObjective\"\n",
      "      }\n",
      "    },\n",
      "    \"optimiser\" : {\n",
      "      \"class-name\" : {\n",
      "        \"original\" : \"org.tribuo.math.optimisers.LinearDecaySGD\",\n",
      "        \"reproduced\" : \"org.tribuo.math.optimisers.AdaGrad\"\n",
      "      },\n",
      "      \"initialLearningRate\" : {\n",
      "        \"original\" : \"0.01\",\n",
      "        \"reproduced\" : \"1.0\"\n",
      "      },\n",
      "      \"rho\" : {\n",
      "        \"original\" : \"0.0\"\n",
      "      },\n",
      "      \"useMomentum\" : {\n",
      "        \"original\" : \"NONE\"\n",
      "      },\n",
      "      \"epsilon\" : {\n",
      "        \"reproduced\" : \"0.1\"\n",
      "      },\n",
      "      \"initialValue\" : {\n",
      "        \"reproduced\" : \"0.0\"\n",
      "      }\n",
      "    },\n",
      "    \"seed\" : {\n",
      "      \"original\" : \"1\",\n",
      "      \"reproduced\" : \"12345\"\n",
      "    }\n",
      "  }\n",
      "}\n"
     ]
    }
   ],
   "source": [
    "System.out.println(ReproUtil.diffProvenance(lrsgdModel.getProvenance(), irisModel.getProvenance()));"
   ]
  },
  {
   "cell_type": "markdown",
   "metadata": {},
   "source": [
    "# Configuration "
   ]
  },
  {
   "cell_type": "code",
   "execution_count": 9,
   "metadata": {},
   "outputs": [],
   "source": [
    "import org.tribuo.transform.*;\n",
    "import org.tribuo.transform.transformations.LinearScalingTransformation;\n",
    "import org.tribuo.classification.*;\n",
    "import org.tribuo.classification.evaluation.*;\n",
    "import com.oracle.labs.mlrg.olcut.config.Configurable;\n",
    "import com.oracle.labs.mlrg.olcut.config.ConfigurationManager;\n",
    "import com.oracle.labs.mlrg.olcut.config.DescribeConfigurable;\n",
    "import com.oracle.labs.mlrg.olcut.provenance.*;\n",
    "import com.oracle.labs.mlrg.olcut.provenance.primitives.*;\n",
    "import com.oracle.labs.mlrg.olcut.config.json.JsonConfigFactory;\n",
    "\n",
    "ConfigurationManager.addFileFormatFactory(new JsonConfigFactory());"
   ]
  },
  {
   "cell_type": "markdown",
   "metadata": {},
   "source": [
    "### Transform Trainer directly"
   ]
  },
  {
   "cell_type": "code",
   "execution_count": 10,
   "metadata": {},
   "outputs": [],
   "source": [
    "var configPath = Paths.get(\"..\", \"tribuo\",\"tutorials\", \"configuration\",\"example-config.json\");\n",
    "var cm = new ConfigurationManager(configPath.toString());\n",
    "var logistic = (Trainer<Label>) cm.lookup(\"logistic\");\n",
    "\n",
    "DataSource<Label> mnistTrain = (DataSource<Label>) cm.lookup(\"mnist-train\");\n",
    "DataSource<Label> mnistTest = (DataSource<Label>) cm.lookup(\"mnist-test\");\n",
    "\n",
    "var trainData = new MutableDataset<>(mnistTrain);\n",
    "var testData = new MutableDataset<>(mnistTest);\n",
    "var transformations = new TransformationMap(List.of(new LinearScalingTransformation(0,1)));\n",
    "var transformed = new TransformTrainer(logistic,transformations);\n",
    "var transformedModel = transformed.train(trainData);\n",
    "\n",
    "\n",
    "var repro = new ReproUtil(transformedModel.getProvenance());\n",
    "var newModel = repro.reproduceFromProvenance();\n",
    "\n"
   ]
  },
  {
   "cell_type": "code",
   "execution_count": 11,
   "metadata": {},
   "outputs": [],
   "source": [
    "var eval = new LabelEvaluator();\n",
    "var oldEvaluation = eval.evaluate((Model<Label>)transformedModel, mnistTest);\n",
    "var newEvaluation = eval.evaluate((Model<Label>)newModel, mnistTest);\n",
    "\n",
    "addToCSV(newModel.getProvenance().getClassName(),\n",
    "            String.valueOf(oldEvaluation.toString().equals(newEvaluation.toString())),\n",
    "            ReproUtil.diffProvenance(transformedModel.getProvenance(), newModel.getProvenance()),\"MNIST\", \"\");"
   ]
  },
  {
   "cell_type": "markdown",
   "metadata": {},
   "source": [
    "### Transform Trainer with TrainTestSplitter"
   ]
  },
  {
   "cell_type": "code",
   "execution_count": 12,
   "metadata": {},
   "outputs": [],
   "source": [
    "var configPath = Paths.get(\"..\", \"tribuo\",\"tutorials\", \"configuration\",\"example-config.json\");\n",
    "var cm = new ConfigurationManager(configPath.toString());\n",
    "var logistic = (Trainer<Label>) cm.lookup(\"logistic\");\n",
    "\n",
    "DataSource<Label> mnistTrain = (DataSource<Label>) cm.lookup(\"mnist-train\");\n",
    "TrainTestSplitter splitter = new TrainTestSplitter(mnistTrain);\n",
    "\n",
    "var trainData = new MutableDataset<>(splitter.getTrain());\n",
    "var testData = new MutableDataset<>(splitter.getTest());\n",
    "var transformations = new TransformationMap(List.of(new LinearScalingTransformation(0,1)));\n",
    "var transformed = new TransformTrainer(logistic,transformations);\n",
    "var transformedModel = transformed.train(trainData);\n",
    "\n",
    "\n",
    "var repro = new ReproUtil(transformedModel.getProvenance());\n",
    "var newModel = repro.reproduceFromProvenance();\n",
    "\n"
   ]
  },
  {
   "cell_type": "code",
   "execution_count": 13,
   "metadata": {},
   "outputs": [],
   "source": [
    "var eval = new LabelEvaluator();\n",
    "var oldEvaluation = eval.evaluate((Model<Label>)transformedModel, mnistTest);\n",
    "var newEvaluation = eval.evaluate((Model<Label>)newModel, mnistTest);\n",
    "\n",
    "addToCSV(newModel.getProvenance().getClassName(),\n",
    "            String.valueOf(oldEvaluation.toString().equals(newEvaluation.toString())),\n",
    "            ReproUtil.diffProvenance(transformedModel.getProvenance(), newModel.getProvenance()), \"MNIST\", \"With TrainTestSplitter\");"
   ]
  },
  {
   "cell_type": "markdown",
   "metadata": {},
   "source": [
    "# Clustering"
   ]
  },
  {
   "cell_type": "code",
   "execution_count": 14,
   "metadata": {},
   "outputs": [],
   "source": [
    "import org.tribuo.clustering.*;\n",
    "import org.tribuo.clustering.evaluation.*;\n",
    "import org.tribuo.clustering.example.GaussianClusterDataSource;\n",
    "import org.tribuo.clustering.kmeans.*;\n",
    "import org.tribuo.clustering.kmeans.KMeansTrainer.Distance;\n",
    "import org.tribuo.clustering.kmeans.KMeansTrainer.Initialisation;"
   ]
  },
  {
   "cell_type": "code",
   "execution_count": 15,
   "metadata": {},
   "outputs": [],
   "source": [
    "var eval = new ClusteringEvaluator();"
   ]
  },
  {
   "cell_type": "code",
   "execution_count": 16,
   "metadata": {},
   "outputs": [],
   "source": [
    "var data = new MutableDataset<>(new GaussianClusterDataSource(500, 1L));\n",
    "var test = new MutableDataset<>(new GaussianClusterDataSource(500, 2L));\n",
    "\n",
    "var trainer = new KMeansTrainer(5, /* centroids */\n",
    "                                10, /* iterations */\n",
    "                                Distance.EUCLIDEAN, /* distance function */\n",
    "                                1, /* number of compute threads */\n",
    "                                1 /* RNG seed */\n",
    "                               );\n",
    "var kmeansModel = trainer.train(data);\n",
    "var kmRepro = new ReproUtil(kmeansModel);\n",
    "var newKmeans = kmRepro.reproduceFromProvenance();\n",
    "\n",
    "var kmeansEval = eval.evaluate(kmeansModel, test);\n",
    "var newKmeansEval = eval.evaluate((KMeansModel)newKmeans, test);\n",
    "\n",
    "addToCSV(kmeansModel.getProvenance().getClassName(),\n",
    "        String.valueOf(kmeansEval.toString().equals(newKmeansEval.toString())),\n",
    "        ReproUtil.diffProvenance(kmeansModel.getProvenance(), newKmeans.getProvenance()), \"Generated\", \"\")\n"
   ]
  },
  {
   "cell_type": "markdown",
   "metadata": {},
   "source": [
    "### KMeans++ "
   ]
  },
  {
   "cell_type": "code",
   "execution_count": 17,
   "metadata": {},
   "outputs": [],
   "source": [
    "var plusplusTrainer = new KMeansTrainer(5,10,Distance.EUCLIDEAN,Initialisation.PLUSPLUS,1,1);\n",
    "var plusplusModel = plusplusTrainer.train(data);\n",
    "\n",
    "var plusplusRepro = new ReproUtil(plusplusModel);\n",
    "var newPlusPlus = plusplusRepro.reproduceFromProvenance();\n",
    "\n",
    "var plusPlusEval = eval.evaluate(plusplusModel, test);\n",
    "var newPlusPlusEval = eval.evaluate((KMeansModel)newPlusPlus, test);\n",
    "\n",
    "addToCSV(plusplusModel.getProvenance().getClassName(),\n",
    "        String.valueOf(plusPlusEval.toString().equals(newPlusPlusEval.toString())),\n",
    "        ReproUtil.diffProvenance(plusplusModel.getProvenance(), newPlusPlus.getProvenance()),\"Generated\", \"KMeans++\")\n"
   ]
  },
  {
   "cell_type": "markdown",
   "metadata": {},
   "source": [
    "# Anomaly Detection with LibSVM"
   ]
  },
  {
   "cell_type": "code",
   "execution_count": 18,
   "metadata": {},
   "outputs": [],
   "source": [
    "import org.tribuo.anomaly.*;\n",
    "import org.tribuo.anomaly.evaluation.*;\n",
    "import org.tribuo.anomaly.example.GaussianAnomalyDataSource;\n",
    "import org.tribuo.anomaly.libsvm.*;\n",
    "import org.tribuo.common.libsvm.*;\n",
    "\n",
    "var eval = new AnomalyEvaluator();"
   ]
  },
  {
   "cell_type": "code",
   "execution_count": 19,
   "metadata": {},
   "outputs": [
    {
     "name": "stdout",
     "output_type": "stream",
     "text": [
      "*\n",
      "optimization finished, #iter = 653\n",
      "obj = 289.5926348816893, rho = 3.144570476807895\n",
      "nSV = 296, nBSV = 114\n",
      "*\n",
      "optimization finished, #iter = 653\n",
      "obj = 289.5926348816893, rho = 3.144570476807895\n",
      "nSV = 296, nBSV = 114\n"
     ]
    }
   ],
   "source": [
    "var data = new MutableDataset<>(new GaussianAnomalyDataSource(2000,/* number of examples */\n",
    "                                                              0.0f,/*fraction anomalous */\n",
    "                                                              1L/* RNG seed */));\n",
    "var test = new MutableDataset<>(new GaussianAnomalyDataSource(2000,0.2f,2L));\n",
    "\n",
    "var params = new SVMParameters<>(new SVMAnomalyType(SVMAnomalyType.SVMMode.ONE_CLASS), KernelType.RBF);\n",
    "params.setGamma(1.0);\n",
    "params.setNu(0.1); \n",
    "var trainer = new LibSVMAnomalyTrainer(params);\n",
    "\n",
    "var anomModel = trainer.train(data);\n",
    "\n",
    "var anomRepro = new ReproUtil(anomModel);\n",
    "var newAnom = anomRepro.reproduceFromProvenance();\n",
    "\n",
    "var testEvaluation = eval.evaluate(anomModel,test);\n",
    "var newEvaluation = eval.evaluate((LibSVMModel)newAnom,test);\n",
    "\n",
    "addToCSV(anomModel.getProvenance().getClassName(),\n",
    "        String.valueOf(testEvaluation.toString().equals(newEvaluation.toString())),\n",
    "        ReproUtil.diffProvenance(anomModel.getProvenance(), newAnom.getProvenance()), \"Generated\", \"\")"
   ]
  },
  {
   "cell_type": "markdown",
   "metadata": {},
   "source": [
    "# Loading Columnar Data"
   ]
  },
  {
   "cell_type": "code",
   "execution_count": 20,
   "metadata": {},
   "outputs": [],
   "source": [
    "import java.nio.charset.StandardCharsets;\n",
    "import java.util.Locale;\n",
    "import java.util.stream.*;\n",
    "\n",
    "import com.oracle.labs.mlrg.olcut.config.ConfigurationManager;\n",
    "import com.oracle.labs.mlrg.olcut.provenance.ProvenanceUtil;\n",
    "\n",
    "import org.tribuo.*;\n",
    "import org.tribuo.data.columnar.*;\n",
    "import org.tribuo.data.columnar.processors.field.*;\n",
    "import org.tribuo.data.columnar.processors.response.*;\n",
    "import org.tribuo.data.columnar.extractors.*;\n",
    "import org.tribuo.data.csv.CSVDataSource;\n",
    "import org.tribuo.data.text.impl.BasicPipeline;\n",
    "import org.tribuo.json.JsonDataSource;\n",
    "import org.tribuo.classification.*;\n",
    "import org.tribuo.classification.sgd.linear.LogisticRegressionTrainer;\n",
    "import org.tribuo.util.tokens.impl.BreakIteratorTokenizer;"
   ]
  },
  {
   "cell_type": "code",
   "execution_count": 21,
   "metadata": {},
   "outputs": [],
   "source": [
    "var csvPath = Paths.get(\"..\", \"tribuo\", \"tutorials\", \"columnar-data\",\"columnar-example.csv\");\n",
    "var csvLines = Files.readAllLines(csvPath, StandardCharsets.UTF_8);\n",
    "\n",
    "BasicPipeline textPipeline = new BasicPipeline(new BreakIteratorTokenizer(Locale.US),2);\n",
    "HashMap<String, FieldProcessor> fieldProcessors = new HashMap<String, FieldProcessor>();\n",
    "\n",
    "fieldProcessors.put(\"height\",new DoubleFieldProcessor(\"height\"));\n",
    "fieldProcessors.put(\"description\",new TextFieldProcessor(\"description\",textPipeline));\n",
    "fieldProcessors.put(\"transport\",new IdentityProcessor(\"transport\"));\n",
    "\n",
    "HashMap<String,FieldProcessor> regexMappingProcessors = new HashMap<String,FieldProcessor>();\n",
    "regexMappingProcessors.put(\"extra.*\", new DoubleFieldProcessor(\"extra.*\"));\n",
    "\n",
    "FieldResponseProcessor responseProcessor = new FieldResponseProcessor(\"disposition\",\"UNK\",new LabelFactory());\n",
    "\n",
    "ArrayList<FieldExtractor<?>> metadataExtractors = new ArrayList<FieldExtractor<?>>();\n",
    "metadataExtractors.add(new IntExtractor(\"id\"));\n",
    "metadataExtractors.add(new DateExtractor(\"timestamp\",\"timestamp\",\"dd/MM/yyyy HH:mm\"));\n",
    "\n",
    "FloatExtractor weightExtractor = new FloatExtractor(\"example-weight\");\n",
    "\n",
    "RowProcessor<Label> rowProcessor = new RowProcessor<Label>(metadataExtractors,weightExtractor,responseProcessor,fieldProcessors,regexMappingProcessors, Collections.emptySet());\n",
    "\n",
    "var jsonPath = Paths.get(\"..\", \"tribuo\", \"tutorials\", \"columnar-data\",\"columnar-example.json\");\n",
    "var jsonLines = Files.readAllLines(jsonPath, StandardCharsets.UTF_8);\n",
    "\n",
    "var jsonSource = new JsonDataSource<>(jsonPath,rowProcessor,true);\n",
    "CSVDataSource csvSource = new CSVDataSource<Label>(csvPath,rowProcessor,true);\n",
    "\n",
    "var csvSplitter = new TrainTestSplitter(csvSource);\n",
    "var jsonSplitter = new TrainTestSplitter(jsonSource);\n",
    "\n",
    "\n",
    "MutableDataset<Label> datasetFromJson = new MutableDataset<Label>(jsonSplitter.getTrain());\n",
    "MutableDataset<Label> datasetFromCSV = new MutableDataset<Label>(csvSplitter.getTrain());"
   ]
  },
  {
   "cell_type": "code",
   "execution_count": 22,
   "metadata": {},
   "outputs": [],
   "source": [
    "var csvModel = new LogisticRegressionTrainer().train(datasetFromCSV);\n",
    "var jsonModel = new LogisticRegressionTrainer().train(datasetFromJson);\n",
    "\n",
    "var csvRepro = new ReproUtil(csvModel);\n",
    "var jsonRepro = new ReproUtil(jsonModel);\n",
    "\n",
    "var newCSV = csvRepro.reproduceFromProvenance();\n",
    "var newJson = jsonRepro.reproduceFromProvenance();\n",
    "\n",
    "var evaluator = new LabelEvaluator();\n",
    "\n",
    "var csvEval = evaluator.evaluate(csvModel, new MutableDataset(csvSplitter.getTest()));\n",
    "var jsonEval = evaluator.evaluate(jsonModel, new MutableDataset(jsonSplitter.getTest()));\n",
    "\n",
    "var newCsvEval = evaluator.evaluate((LinearSGDModel) newCSV, new MutableDataset(csvSplitter.getTest()));\n",
    "var newJsonEval = evaluator.evaluate((LinearSGDModel) newJson, new MutableDataset(jsonSplitter.getTest()));\n",
    "\n",
    "addToCSV(csvModel.getProvenance().getClassName(),\n",
    "        String.valueOf(csvEval.toString().equals(newCsvEval.toString())),\n",
    "        ReproUtil.diffProvenance(csvModel.getProvenance(), newCSV.getProvenance()), \"Generated\", \"CSV Columnar with TrainTest\");\n",
    "addToCSV(jsonModel.getProvenance().getClassName(),\n",
    "        String.valueOf(jsonEval.toString().equals(newJsonEval.toString())),\n",
    "        ReproUtil.diffProvenance(jsonModel.getProvenance(), newJson.getProvenance()), \"Generated\", \"JSON Columnar with TrainTest\")"
   ]
  },
  {
   "cell_type": "markdown",
   "metadata": {},
   "source": [
    "# Feature Extraction"
   ]
  },
  {
   "cell_type": "code",
   "execution_count": 23,
   "metadata": {},
   "outputs": [],
   "source": [
    "import java.util.Collections;\n",
    "import java.nio.file.Paths;\n",
    "import com.oracle.labs.mlrg.olcut.provenance.ProvenanceUtil;\n",
    "import com.oracle.labs.mlrg.olcut.util.Pair;\n",
    "import org.tribuo.*;\n",
    "import org.tribuo.data.text.*;\n",
    "import org.tribuo.data.text.impl.*;\n",
    "import org.tribuo.dataset.MinimumCardinalityDataset;\n",
    "import org.tribuo.classification.*;\n",
    "import org.tribuo.classification.evaluation.*;\n",
    "import org.tribuo.classification.sgd.linear.LinearSGDTrainer;\n",
    "import org.tribuo.classification.sgd.objectives.LogMulticlass;\n",
    "import org.tribuo.interop.onnx.extractors.BERTFeatureExtractor;\n",
    "import org.tribuo.math.optimisers.AdaGrad;\n",
    "import org.tribuo.transform.*;\n",
    "import org.tribuo.transform.transformations.IDFTransformation;\n",
    "import org.tribuo.util.tokens.universal.UniversalTokenizer;\n",
    "import org.tribuo.util.Util;"
   ]
  },
  {
   "cell_type": "code",
   "execution_count": 24,
   "metadata": {},
   "outputs": [
    {
     "name": "stdout",
     "output_type": "stream",
     "text": [
      "bow training data size = 11314, number of features = 122024, number of classes = 20\n",
      "bow testing data size = 7532, number of features = 122024, number of classes = 20\n"
     ]
    }
   ],
   "source": [
    "var labelFactory = new LabelFactory();\n",
    "var labelEvaluator = new LabelEvaluator();\n",
    "var trainPath = Paths.get(\".\",\"20news\",\"20news-bydate-train\");\n",
    "var testPath = Paths.get(\".\",\"20news\",\"20news-bydate-test\");\n",
    "var tokenizer = new UniversalTokenizer();\n",
    "var bowPipeline = new BasicPipeline(tokenizer,1);\n",
    "var bowExtractor = new TextFeatureExtractorImpl<Label>(bowPipeline);\n",
    "\n",
    "var newsProc = new NewsPreprocessor();\n",
    "var lowercase = new CasingPreprocessor(CasingPreprocessor.CasingOperation.LOWERCASE);\n",
    "\n",
    "public Pair<Dataset<Label>,Dataset<Label>> mkDatasets(String name, TextFeatureExtractor<Label> extractor) {\n",
    "    var trainSource = new DirectoryFileSource<>(trainPath,labelFactory,extractor,newsProc,lowercase);\n",
    "    var testSource = new DirectoryFileSource<>(testPath,labelFactory,extractor,newsProc,lowercase);\n",
    "    var trainDS = new MutableDataset<>(trainSource);\n",
    "    var testDS = new ImmutableDataset<>(testSource,trainDS.getFeatureIDMap(),trainDS.getOutputIDInfo(),true);\n",
    "    System.out.println(String.format(name + \" training data size = %d, number of features = %d, number of classes = %d\",trainDS.size(),trainDS.getFeatureMap().size(),trainDS.getOutputInfo().size()));\n",
    "    System.out.println(String.format(name + \" testing data size = %d, number of features = %d, number of classes = %d\",testDS.size(),testDS.getFeatureMap().size(),testDS.getOutputInfo().size()));\n",
    "    return new Pair<>(trainDS,testDS);\n",
    "}\n",
    "\n",
    "var bowPair = mkDatasets(\"bow\",bowExtractor);\n"
   ]
  },
  {
   "cell_type": "markdown",
   "metadata": {},
   "source": [
    "### Simple bag of words"
   ]
  },
  {
   "cell_type": "code",
   "execution_count": 25,
   "metadata": {},
   "outputs": [],
   "source": [
    "var lrTrainer = new LinearSGDTrainer(new LogMulticlass(),new AdaGrad(0.1,0.001),5,42);\n",
    "var bowModel = lrTrainer.train(bowPair.getA());\n",
    "\n",
    "var bowRepro = new ReproUtil(bowModel);\n",
    "var newBow = bowRepro.reproduceFromProvenance();"
   ]
  },
  {
   "cell_type": "code",
   "execution_count": 26,
   "metadata": {},
   "outputs": [],
   "source": [
    "var bowEval = labelEvaluator.evaluate(bowModel,bowPair.getB());\n",
    "var newBowEval = labelEvaluator.evaluate((LinearSGDModel)newBow,bowPair.getB());\n",
    "\n",
    "addToCSV(bowModel.getProvenance().getClassName(),\n",
    "        String.valueOf(bowEval.toString().equals(newBowEval.toString())),\n",
    "        ReproUtil.diffProvenance(bowModel.getProvenance(), newBow.getProvenance()), \"20 News\", \"BoW Simple Logistic\");"
   ]
  },
  {
   "cell_type": "markdown",
   "metadata": {},
   "source": [
    "### Unigram "
   ]
  },
  {
   "cell_type": "code",
   "execution_count": 27,
   "metadata": {},
   "outputs": [
    {
     "name": "stdout",
     "output_type": "stream",
     "text": [
      "unigram training data size = 11314, number of features = 122024, number of classes = 20\n",
      "unigram testing data size = 7532, number of features = 122024, number of classes = 20\n"
     ]
    }
   ],
   "source": [
    "var unigramPipeline = new TokenPipeline(tokenizer, 1, true);\n",
    "var unigramExtractor = new TextFeatureExtractorImpl<Label>(unigramPipeline);\n",
    "var unigramPair = mkDatasets(\"unigram\",unigramExtractor);\n",
    "\n",
    "var model = lrTrainer.train(unigramPair.getA());\n",
    "var repro = new ReproUtil(model);\n",
    "var newModel = repro.reproduceFromProvenance();"
   ]
  },
  {
   "cell_type": "code",
   "execution_count": 28,
   "metadata": {},
   "outputs": [],
   "source": [
    "var oldEval = labelEvaluator.evaluate(model,unigramPair.getB());\n",
    "var newEval = labelEvaluator.evaluate((LinearSGDModel)newModel,unigramPair.getB());\n",
    "\n",
    "addToCSV(model.getProvenance().getClassName(),\n",
    "        String.valueOf(oldEval.toString().equals(newEval.toString())),\n",
    "        ReproUtil.diffProvenance(model.getProvenance(), newModel.getProvenance()), \"20 News\", \"Unigram Logistic\");"
   ]
  },
  {
   "cell_type": "markdown",
   "metadata": {},
   "source": [
    "### Bigrams"
   ]
  },
  {
   "cell_type": "code",
   "execution_count": 29,
   "metadata": {},
   "outputs": [
    {
     "name": "stdout",
     "output_type": "stream",
     "text": [
      "bigram training data size = 11314, number of features = 1143035, number of classes = 20\n",
      "bigram testing data size = 7532, number of features = 1143035, number of classes = 20\n"
     ]
    }
   ],
   "source": [
    "var bigramPipeline = new TokenPipeline(tokenizer, 2, true);\n",
    "var bigramExtractor = new TextFeatureExtractorImpl<Label>(bigramPipeline);\n",
    "var bigramPair = mkDatasets(\"bigram\",bigramExtractor);\n",
    "\n",
    "var model = lrTrainer.train(bigramPair.getA());\n",
    "var repro = new ReproUtil(model);\n",
    "var newModel = repro.reproduceFromProvenance(); "
   ]
  },
  {
   "cell_type": "code",
   "execution_count": 30,
   "metadata": {},
   "outputs": [],
   "source": [
    "var oldEval = labelEvaluator.evaluate(model,unigramPair.getB());\n",
    "var newEval = labelEvaluator.evaluate((LinearSGDModel)newModel,unigramPair.getB());\n",
    "\n",
    "addToCSV(model.getProvenance().getClassName(),\n",
    "        String.valueOf(oldEval.toString().equals(newEval.toString())),\n",
    "        ReproUtil.diffProvenance(model.getProvenance(), newModel.getProvenance()),\"20 News\", \"Bigram Logistic\");"
   ]
  },
  {
   "cell_type": "markdown",
   "metadata": {},
   "source": [
    "# Random Forest Trainer"
   ]
  },
  {
   "cell_type": "code",
   "execution_count": 31,
   "metadata": {},
   "outputs": [],
   "source": [
    "import org.tribuo.common.tree.RandomForestTrainer;\n",
    "import org.tribuo.regression.ensemble.AveragingCombiner;\n"
   ]
  },
  {
   "cell_type": "code",
   "execution_count": 32,
   "metadata": {},
   "outputs": [],
   "source": [
    "CARTRegressionTrainer subsamplingTree = new CARTRegressionTrainer(Integer.MAX_VALUE,\n",
    "                CARTRegressionTrainer.MIN_EXAMPLES, 0.0f, 0.5f, false, new MeanSquaredError(), Trainer.DEFAULT_SEED);\n",
    "    \n",
    "RandomForestTrainer<Regressor> rfT = new RandomForestTrainer<>(subsamplingTree,new AveragingCombiner(),10);\n",
    "\n",
    "var regressionFactory = new RegressionFactory();\n",
    "var csvLoader = new CSVLoader<>(';',regressionFactory);\n",
    "\n",
    "var wineSource = csvLoader.loadDataSource(Paths.get(\"winequality-red.csv\"),\"quality\");\n",
    "\n",
    "var wineSplitter = new TrainTestSplitter(wineSource);\n",
    "\n",
    "Dataset<Regressor> trainData = new MutableDataset<>(wineSplitter.getTrain());\n",
    "Dataset<Regressor> testData = new MutableDataset<>(wineSplitter.getTest());\n",
    "\n",
    "Model<Regressor> model = rfT.train(trainData);\n",
    "\n",
    "ReproUtil reproUtil = new ReproUtil(model.getProvenance());\n",
    "Model<Regressor> newModel = reproUtil.reproduceFromProvenance();\n",
    "\n",
    "RegressionEvaluator eval = new RegressionEvaluator();\n",
    "\n",
    "var oldEvaluation = eval.evaluate(model,testData);\n",
    "var newEvaluation = eval.evaluate(newModel,testData);\n",
    "\n",
    "addToCSV(model.getProvenance().getClassName(),\n",
    "        String.valueOf(oldEvaluation.toString().equals(newEvaluation.toString())),\n",
    "        ReproUtil.diffProvenance(model.getProvenance(), newModel.getProvenance()), \"Wine Quality\", \"Random Forest Trainer\");"
   ]
  },
  {
   "cell_type": "code",
   "execution_count": null,
   "metadata": {},
   "outputs": [],
   "source": []
  }
 ],
 "metadata": {
  "kernelspec": {
   "display_name": "Java",
   "language": "java",
   "name": "java"
  },
  "language_info": {
   "codemirror_mode": "java",
   "file_extension": ".jshell",
   "mimetype": "text/x-java-source",
   "name": "Java",
   "pygments_lexer": "java",
   "version": "16.0.2+7-67"
  }
 },
 "nbformat": 4,
 "nbformat_minor": 4
}

